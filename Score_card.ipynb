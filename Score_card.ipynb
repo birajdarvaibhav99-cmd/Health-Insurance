{
 "cells": [
  {
   "cell_type": "code",
   "execution_count": 7,
   "id": "5008803f-1970-4ab3-8024-42bf62a5ae04",
   "metadata": {},
   "outputs": [],
   "source": [
    "from sklearn.linear_model import LinearRegression\n",
    "import pandas as pd\n",
    "import matplotlib.pyplot as plt"
   ]
  },
  {
   "cell_type": "code",
   "execution_count": 34,
   "id": "57e43113-8eba-4df5-b36f-a1c0b6aa8020",
   "metadata": {},
   "outputs": [],
   "source": [
    "data = {'Overs' : [10, 20, 30, 40, ] ,\n",
    "        'Wickets' : [1, 0 ,2, 3],\n",
    "        'Runs' : [65, 135, 190,280, ]\n",
    "}"
   ]
  },
  {
   "cell_type": "code",
   "execution_count": 35,
   "id": "65e470a5-110a-41e6-ac2b-1009c42ab20f",
   "metadata": {},
   "outputs": [],
   "source": [
    "df = pd.DataFrame(data)"
   ]
  },
  {
   "cell_type": "code",
   "execution_count": 36,
   "id": "ae9d2c42-fba2-4043-97d2-0c3ca69713d1",
   "metadata": {},
   "outputs": [
    {
     "data": {
      "text/html": [
       "<div>\n",
       "<style scoped>\n",
       "    .dataframe tbody tr th:only-of-type {\n",
       "        vertical-align: middle;\n",
       "    }\n",
       "\n",
       "    .dataframe tbody tr th {\n",
       "        vertical-align: top;\n",
       "    }\n",
       "\n",
       "    .dataframe thead th {\n",
       "        text-align: right;\n",
       "    }\n",
       "</style>\n",
       "<table border=\"1\" class=\"dataframe\">\n",
       "  <thead>\n",
       "    <tr style=\"text-align: right;\">\n",
       "      <th></th>\n",
       "      <th>Overs</th>\n",
       "      <th>Wickets</th>\n",
       "      <th>Runs</th>\n",
       "    </tr>\n",
       "  </thead>\n",
       "  <tbody>\n",
       "    <tr>\n",
       "      <th>0</th>\n",
       "      <td>10</td>\n",
       "      <td>1</td>\n",
       "      <td>65</td>\n",
       "    </tr>\n",
       "    <tr>\n",
       "      <th>1</th>\n",
       "      <td>20</td>\n",
       "      <td>0</td>\n",
       "      <td>135</td>\n",
       "    </tr>\n",
       "    <tr>\n",
       "      <th>2</th>\n",
       "      <td>30</td>\n",
       "      <td>2</td>\n",
       "      <td>190</td>\n",
       "    </tr>\n",
       "    <tr>\n",
       "      <th>3</th>\n",
       "      <td>40</td>\n",
       "      <td>3</td>\n",
       "      <td>280</td>\n",
       "    </tr>\n",
       "  </tbody>\n",
       "</table>\n",
       "</div>"
      ],
      "text/plain": [
       "   Overs  Wickets  Runs\n",
       "0     10        1    65\n",
       "1     20        0   135\n",
       "2     30        2   190\n",
       "3     40        3   280"
      ]
     },
     "execution_count": 36,
     "metadata": {},
     "output_type": "execute_result"
    }
   ],
   "source": [
    "df"
   ]
  },
  {
   "cell_type": "code",
   "execution_count": 37,
   "id": "0958230b-c6fe-4540-8906-8ab937af255f",
   "metadata": {},
   "outputs": [],
   "source": [
    "X = df[['Overs' ,'Wickets']]\n",
    "y = df['Runs']"
   ]
  },
  {
   "cell_type": "code",
   "execution_count": 38,
   "id": "1ce4f135-c1c3-4c40-a595-6a1f869c9cd8",
   "metadata": {},
   "outputs": [
    {
     "data": {
      "text/plain": [
       "(np.float64(-7.499999999999943), array([7.0000000e+00, 1.2790016e-14]))"
      ]
     },
     "execution_count": 38,
     "metadata": {},
     "output_type": "execute_result"
    }
   ],
   "source": [
    "model = LinearRegression()\n",
    "model.fit(X,y)\n",
    "model.intercept_,model.coef_"
   ]
  },
  {
   "cell_type": "code",
   "execution_count": 49,
   "id": "8bb9a7b4-0616-4ac9-8bd9-2384476693ca",
   "metadata": {},
   "outputs": [],
   "source": [
    "predicted_Runs = [[50 , 0]]"
   ]
  },
  {
   "cell_type": "code",
   "execution_count": 51,
   "id": "4d107637-5389-487f-a8ea-50a9bed27942",
   "metadata": {},
   "outputs": [
    {
     "name": "stderr",
     "output_type": "stream",
     "text": [
      "C:\\Users\\VAISHNAVI BIRAJDAR\\anaconda3\\Lib\\site-packages\\sklearn\\utils\\validation.py:2739: UserWarning: X does not have valid feature names, but LinearRegression was fitted with feature names\n",
      "  warnings.warn(\n"
     ]
    },
    {
     "data": {
      "text/plain": [
       "array([342.5])"
      ]
     },
     "execution_count": 51,
     "metadata": {},
     "output_type": "execute_result"
    }
   ],
   "source": [
    "model.predict(predicted_Runs)"
   ]
  },
  {
   "cell_type": "code",
   "execution_count": null,
   "id": "112f68e6-f6d8-4641-bd67-0e73685ee186",
   "metadata": {},
   "outputs": [],
   "source": []
  }
 ],
 "metadata": {
  "kernelspec": {
   "display_name": "Python 3 (ipykernel)",
   "language": "python",
   "name": "python3"
  },
  "language_info": {
   "codemirror_mode": {
    "name": "ipython",
    "version": 3
   },
   "file_extension": ".py",
   "mimetype": "text/x-python",
   "name": "python",
   "nbconvert_exporter": "python",
   "pygments_lexer": "ipython3",
   "version": "3.13.5"
  }
 },
 "nbformat": 4,
 "nbformat_minor": 5
}
